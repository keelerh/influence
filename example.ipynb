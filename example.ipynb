{
 "cells": [
  {
   "cell_type": "code",
   "execution_count": 1,
   "outputs": [
    {
     "name": "stdout",
     "output_type": "stream",
     "text": [
      "[[1]\n",
      " [0]\n",
      " [0]\n",
      " [1]]\n"
     ]
    }
   ],
   "source": [
    "import numpy as np\n",
    "\n",
    "from influence.influence_model import InfluenceModel\n",
    "from influence.site import Site\n",
    "\n",
    "leader = Site('leader', np.array([[1], [0]]))\n",
    "follower = Site('follower', np.array([[0], [1]]))\n",
    "D = np.array([\n",
    "    [1, 0],\n",
    "    [1, 0],\n",
    "])\n",
    "A = np.array([\n",
    "    [.5, .5, 1., 0.],\n",
    "    [.5, .5, 0., 1.],\n",
    "    [.5, .5, .5, .5],\n",
    "    [.5, .5, .5, .5],\n",
    "])\n",
    "model = InfluenceModel([leader, follower], D, A)\n",
    "initial_state = model.get_state_vector()\n",
    "print(initial_state)"
   ],
   "metadata": {
    "collapsed": false,
    "pycharm": {
     "name": "#%%\n"
    }
   }
  },
  {
   "cell_type": "code",
   "execution_count": 2,
   "outputs": [
    {
     "name": "stdout",
     "output_type": "stream",
     "text": [
      "[[0]\n",
      " [1]\n",
      " [1]\n",
      " [0]]\n"
     ]
    }
   ],
   "source": [
    "next(model)\n",
    "next_state = model.get_state_vector()\n",
    "print(next_state)"
   ],
   "metadata": {
    "collapsed": false,
    "pycharm": {
     "name": "#%%\n"
    }
   }
  },
  {
   "cell_type": "code",
   "execution_count": 2,
   "outputs": [],
   "source": [],
   "metadata": {
    "collapsed": false,
    "pycharm": {
     "name": "#%%\n"
    }
   }
  }
 ],
 "metadata": {
  "kernelspec": {
   "display_name": "Python 3",
   "language": "python",
   "name": "python3"
  },
  "language_info": {
   "codemirror_mode": {
    "name": "ipython",
    "version": 2
   },
   "file_extension": ".py",
   "mimetype": "text/x-python",
   "name": "python",
   "nbconvert_exporter": "python",
   "pygments_lexer": "ipython2",
   "version": "2.7.6"
  }
 },
 "nbformat": 4,
 "nbformat_minor": 0
}